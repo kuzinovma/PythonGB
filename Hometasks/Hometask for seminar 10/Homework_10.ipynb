{
  "cells": [
    {
      "cell_type": "markdown",
      "metadata": {
        "id": "CoZiubPZdAQM"
      },
      "source": [
        "#Задача 44\n",
        "В ячейке ниже представлен код генерирующий DataFrame, которая состоит всего из 1 столбца. Ваша задача перевести его в one hot вид. Сможете ли вы это сделать без get_dummies?\n",
        "\n",
        "import random\n",
        "lst = ['robot'] * 10\n",
        "lst += ['human'] * 10\n",
        "random.shuffle(lst)\n",
        "data = pd.DataFrame({'whoAmI'lst})\n",
        "data.head() |"
      ]
    },
    {
      "cell_type": "code",
      "execution_count": 5,
      "metadata": {
        "colab": {
          "base_uri": "https://localhost:8080/"
        },
        "id": "oZ5hVNudZd3D",
        "outputId": "8671c8b5-75fe-4f9d-a92a-d64726965f51"
      },
      "outputs": [
        {
          "name": "stdout",
          "output_type": "stream",
          "text": [
            "   whoAmI\n",
            "0   robot\n",
            "1   robot\n",
            "2   robot\n",
            "3   robot\n",
            "4   robot\n",
            "5   robot\n",
            "6   human\n",
            "7   robot\n",
            "8   robot\n",
            "9   robot\n",
            "10  human\n",
            "11  human\n",
            "12  human\n",
            "13  human\n",
            "14  robot\n",
            "15  human\n",
            "16  human\n",
            "17  human\n",
            "18  human\n",
            "19  human\n",
            "    whoAmI_human  whoAmI_robot\n",
            "0              0             1\n",
            "1              0             1\n",
            "2              0             1\n",
            "3              0             1\n",
            "4              0             1\n",
            "5              0             1\n",
            "6              1             0\n",
            "7              0             1\n",
            "8              0             1\n",
            "9              0             1\n",
            "10             1             0\n",
            "11             1             0\n",
            "12             1             0\n",
            "13             1             0\n",
            "14             0             1\n",
            "15             1             0\n",
            "16             1             0\n",
            "17             1             0\n",
            "18             1             0\n",
            "19             1             0\n"
          ]
        }
      ],
      "source": [
        "import pandas as pd\n",
        "\n",
        "import random\n",
        "\n",
        "lst = ['robot'] * 10\n",
        "lst += ['human'] * 10\n",
        "random.shuffle(lst)\n",
        "data = pd.DataFrame({'whoAmI':lst})\n",
        "print(data)\n",
        "\n",
        "print(pd.get_dummies(data))\n"
      ]
    }
  ],
  "metadata": {
    "colab": {
      "provenance": []
    },
    "kernelspec": {
      "display_name": "Python 3",
      "name": "python3"
    },
    "language_info": {
      "name": "python"
    }
  },
  "nbformat": 4,
  "nbformat_minor": 0
}
